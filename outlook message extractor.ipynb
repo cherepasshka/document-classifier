{
 "cells": [
  {
   "cell_type": "code",
   "execution_count": 27,
   "id": "003291ca",
   "metadata": {},
   "outputs": [],
   "source": [
    "import extract_msg\n",
    "import os"
   ]
  },
  {
   "cell_type": "code",
   "execution_count": 28,
   "id": "6c3a3535",
   "metadata": {},
   "outputs": [],
   "source": [
    "def FormTextFromMessage(message):\n",
    "    return '{sender}\\n{date}\\n{subject}\\n{body}'.format(sender=message.sender, date=message.date, \n",
    "                                                        subject=message.subject, body=message.body)"
   ]
  },
  {
   "cell_type": "code",
   "execution_count": 41,
   "id": "89970475",
   "metadata": {},
   "outputs": [],
   "source": [
    "def ExtractionWalk(path):\n",
    "    all_files = os.listdir()\n",
    "    if 'text_layer' in all_files:\n",
    "        all_files.remove('text_layer')\n",
    "    all_folders = [file_name for file_name in all_files if '.' not in file_name]\n",
    "    \n",
    "    for folder_name in all_folders:\n",
    "        os.chdir(folder_name)\n",
    "        ExtractionWalk(path + '\\\\' + folder_name)\n",
    "        os.chdir('..')\n",
    "    if len(all_folders) == 0:\n",
    "        for file_name in all_files:\n",
    "            if file_name.split('.')[-1] == 'msg':\n",
    "                text = ''\n",
    "                try:\n",
    "                    message = extract_msg.Message(file_name)\n",
    "                    text = FormTextFromMessage(message)\n",
    "                    with open('text_layer\\\\' + file_name.split('.')[0] + '.txt', 'w', encoding='utf-8') as f:\n",
    "                        f.write(text)\n",
    "                    ALL.append(file_name)\n",
    "                except:\n",
    "                    print('Occured problem while processing {}\\{}; non-empty text: {}'.format(path, file_name, (text != '')))"
   ]
  },
  {
   "cell_type": "code",
   "execution_count": 42,
   "id": "6733f0df",
   "metadata": {
    "scrolled": true
   },
   "outputs": [
    {
     "name": "stdout",
     "output_type": "stream",
     "text": [
      "Occured problem while processing .\\rfq\\Routine\\116693R.msg; non-empty text: False\n"
     ]
    }
   ],
   "source": [
    "ALL = []\n",
    "os.chdir('for training')\n",
    "ExtractionWalk('.')\n",
    "os.chdir('..')"
   ]
  },
  {
   "cell_type": "code",
   "execution_count": null,
   "id": "372cff5a",
   "metadata": {},
   "outputs": [],
   "source": []
  }
 ],
 "metadata": {
  "kernelspec": {
   "display_name": "Python 3 (ipykernel)",
   "language": "python",
   "name": "python3"
  },
  "language_info": {
   "codemirror_mode": {
    "name": "ipython",
    "version": 3
   },
   "file_extension": ".py",
   "mimetype": "text/x-python",
   "name": "python",
   "nbconvert_exporter": "python",
   "pygments_lexer": "ipython3",
   "version": "3.7.6"
  }
 },
 "nbformat": 4,
 "nbformat_minor": 5
}
