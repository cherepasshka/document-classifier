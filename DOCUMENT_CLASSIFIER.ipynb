{
 "cells": [
  {
   "cell_type": "code",
   "execution_count": 2,
   "metadata": {},
   "outputs": [],
   "source": [
    "# all necessary includes\n",
    "import numpy as np\n",
    "import pandas as pd\n",
    "\n",
    "from sklearn.ensemble import RandomForestClassifier\n",
    "\n",
    "import os"
   ]
  },
  {
   "cell_type": "code",
   "execution_count": 33,
   "metadata": {},
   "outputs": [],
   "source": [
    "# additional functions\n",
    "def TrainClassifier(dataframe):\n",
    "    X_train, Y_train = dataframe['X'], dataframe['target']\n",
    "    \n",
    "    model = RandomForestClassifier(\n",
    "                                    # params\n",
    "                                  )\n",
    "    \n",
    "def DepthFirstSearch(cur_folder, names, file_name, doc_text, name=''):\n",
    "    # print(name, cur_folder)\n",
    "    files = os.listdir()\n",
    "    cur_name = name[:]\n",
    "    if len(cur_name) != 0:\n",
    "        cur_name += '-'\n",
    "    cur_name += cur_folder\n",
    "    folders = [x for x in files if '.' not in x]\n",
    "    for x in folders:\n",
    "        os.chdir(x)\n",
    "        DepthFirstSearch(x, names, file_name, doc_text, cur_name)\n",
    "        os.chdir('..')\n",
    "    if len(folders) == 0:\n",
    "        for file in files:\n",
    "            names.append(cur_name)\n",
    "            file_name.append(file)\n",
    "            doc_text.append('')\n",
    "        "
   ]
  },
  {
   "cell_type": "code",
   "execution_count": 34,
   "metadata": {},
   "outputs": [
    {
     "name": "stdout",
     "output_type": "stream",
     "text": [
      "  file_name doc_type\n",
      "0  absd.txt  a1-f_pg\n"
     ]
    }
   ],
   "source": [
    "# read input\n",
    "# os.chdir('..')\n",
    "names = []\n",
    "file_name = []\n",
    "doc_text = []\n",
    "dataset_path = 'datasets'\n",
    "os.chdir(dataset_path)\n",
    "DepthFirstSearch('', names, file_name, doc_text)\n",
    "os.chdir('..')\n",
    "df = pd.DataFrame({'file_name': file_name, 'doc_type': names})\n",
    "print(df)"
   ]
  },
  {
   "cell_type": "code",
   "execution_count": null,
   "metadata": {},
   "outputs": [],
   "source": [
    "# modify input\n"
   ]
  },
  {
   "cell_type": "code",
   "execution_count": null,
   "metadata": {},
   "outputs": [],
   "source": [
    "# split into validation and training\n",
    "validation_fraction = 0.3\n"
   ]
  },
  {
   "cell_type": "code",
   "execution_count": null,
   "metadata": {},
   "outputs": [],
   "source": [
    "# train the model\n"
   ]
  },
  {
   "cell_type": "code",
   "execution_count": null,
   "metadata": {},
   "outputs": [],
   "source": [
    "# write model to file\n"
   ]
  },
  {
   "cell_type": "code",
   "execution_count": null,
   "metadata": {},
   "outputs": [],
   "source": [
    "# assess accuracy of the model\n"
   ]
  }
 ],
 "metadata": {
  "kernelspec": {
   "display_name": "Python 3",
   "language": "python",
   "name": "python3"
  },
  "language_info": {
   "codemirror_mode": {
    "name": "ipython",
    "version": 3
   },
   "file_extension": ".py",
   "mimetype": "text/x-python",
   "name": "python",
   "nbconvert_exporter": "python",
   "pygments_lexer": "ipython3",
   "version": "3.8.5"
  }
 },
 "nbformat": 4,
 "nbformat_minor": 4
}
